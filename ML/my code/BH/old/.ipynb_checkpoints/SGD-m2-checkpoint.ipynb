{
 "cells": [
  {
   "cell_type": "code",
   "execution_count": 1,
   "metadata": {},
   "outputs": [],
   "source": [
    "import tensorflow as tf\n",
    "import numpy as np\n",
    "import matplotlib.pyplot as plt"
   ]
  },
  {
   "cell_type": "code",
   "execution_count": 2,
   "metadata": {},
   "outputs": [],
   "source": [
    "def coth(a):\n",
    "    if a>0: return (1+tf.math.exp(-2*a))/(1-tf.math.exp(-2*a))\n",
    "    if a<0: return (tf.math.exp(2*a)+1)/(tf.math.exp(2*a)-1)\n",
    "    if a==0: return 0\n",
    "\n",
    "def tanh(a):\n",
    "    if a>0: return (1-tf.math.exp(-2*a))/(1+tf.math.exp(-2*a))\n",
    "    if a<0: return (tf.math.exp(2*a)-1)/(tf.math.exp(2*a)+1)\n",
    "    if a==0: return 0"
   ]
  },
  {
   "cell_type": "code",
   "execution_count": 17,
   "metadata": {},
   "outputs": [],
   "source": [
    "data=100\n",
    "layer=10\n",
    "n_ini=1.0\n",
    "n_fin=0.1\n",
    "dn=-0.1\n",
    "m2=-1\n",
    "lam=1\n",
    "c_reg1=0.03\n",
    "c_reg2=0"
   ]
  },
  {
   "cell_type": "code",
   "execution_count": 18,
   "metadata": {
    "scrolled": false
   },
   "outputs": [
    {
     "name": "stdout",
     "output_type": "stream",
     "text": [
      "<tf.Variable 'Variable:0' shape=(10,) dtype=float64, numpy=\n",
      "array([ 3.78512277,  1.42522662, -1.06708623,  2.89182239,  3.44877826,\n",
      "        3.00235353,  2.03094601,  2.42231252,  4.80718053, 10.30447819])>\n",
      "tf.Tensor(\n",
      "[ 3.01490951  3.02722263  3.04978824  3.09134316  3.16854751  3.31437385\n",
      "  3.59861219  4.18820179  5.58607614 10.29821491], shape=(10,), dtype=float64)\n"
     ]
    },
    {
     "data": {
      "image/png": "[encoded data removed]",
      "text/plain": [
       "<Figure size 432x288 with 1 Axes>"
      ]
     },
     "metadata": {
      "needs_background": "light"
     },
     "output_type": "display_data"
    }
   ],
   "source": [
    "h=tf.zeros(layer)\n",
    "h_in=[]\n",
    "#h_in=[3.0205426, 3.022307 , 3.0291433, 3.04402  , 3.0732646, 3.131582 ,\n",
    "# 3.2585216, 3.5762587, 4.59116  , 9.752249]\n",
    "for i in range (layer):\n",
    "#   midd=np.float64(10.0)\n",
    "#    h_in.append(midd)\n",
    "#    midd=3*coth(3*((i-layer)*dn)).numpy()\n",
    "#    h_in.append(midd)\n",
    "    mu=1/(1-i/10)\n",
    "    h_inn=np.float64(np.random.normal(mu, 1))\n",
    "    h_in.append(h_inn)\n",
    "h=tf.Variable(h_in)\n",
    "print(h)\n",
    "\n",
    "h_real=tf.zeros(layer)\n",
    "middd=[]\n",
    "for i in range (layer):\n",
    "    midd=3*coth(3*((i-layer)*dn)).numpy()\n",
    "    middd.append(midd)\n",
    "h_real=tf.constant(middd)\n",
    "print(h_real)\n",
    "plt.plot(h_real, 'r-')\n",
    "plt.plot(h.numpy(), 'k-')\n",
    "plt.show()"
   ]
  },
  {
   "cell_type": "code",
   "execution_count": 19,
   "metadata": {},
   "outputs": [
    {
     "name": "stdout",
     "output_type": "stream",
     "text": [
      "<tf.Variable 'Variable:0' shape=() dtype=float64, numpy=-1.436485095144488>\n"
     ]
    }
   ],
   "source": [
    "m2=tf.constant(np.float64(-1.0))\n",
    "m2_2=tf.Variable(np.float64(np.random.uniform(-1.5, -0.5)))\n",
    "print(m2_2)"
   ]
  },
  {
   "cell_type": "code",
   "execution_count": 7,
   "metadata": {},
   "outputs": [],
   "source": [
    "def F_func(m, a,b):\n",
    "    return 2*b/n_fin-m*a-lam*(a**3)\n",
    "\n",
    "def t_func(a):\n",
    "    return 0.5*(tf.math.tanh(100*(a-0.1))-tf.math.tanh(100*(a+0.1))+2)"
   ]
  },
  {
   "cell_type": "code",
   "execution_count": 8,
   "metadata": {},
   "outputs": [],
   "source": [
    "def LP2(hh, m, phi, pi):\n",
    "    for j in range (layer-1):\n",
    "        phi1=phi+dn*pi\n",
    "        pi1 =phi*m*dn+(1-dn*hh[j])*pi+dn*lam*(phi1**3)\n",
    "        phi=phi1\n",
    "        pi=pi1\n",
    "    return phi, pi\n",
    "def NN_func_p(hh, m):\n",
    "    Positive=[]\n",
    "    while len(Positive)<data:\n",
    "        phi1=np.random.uniform(0.0, 1.5, 10000)\n",
    "        pi1=np.random.uniform(-0.2, 0.2, 10000)\n",
    "        phi_1, pi_1=LP2(hh, m, phi1, pi1)\n",
    "        for i in range (10000):\n",
    "            if len(Positive)>=100: break\n",
    "            if tf.math.abs(F_func(m, phi_1[i], pi_1[i]))<0.1: Positive.append([phi1[i], pi1[i]]), print(len(Positive))\n",
    "            else: continue\n",
    "    return Positive\n",
    "def NN_func_n(hh, m):\n",
    "    Negative=[]\n",
    "    while len(Negative)<data:\n",
    "        phi1=np.random.uniform(0.0, 1.5, 200)\n",
    "        pi1=np.random.uniform(-0.2, 0.2, 200)\n",
    "        phi_1, pi_1 = LP2(hh, m, phi1, pi1)\n",
    "        for i in range (200):\n",
    "            if len(Negative)>=100: break\n",
    "            if tf.math.abs(F_func(m, phi_1[i], pi_1[i]))>=0.1: Negative.append([phi1[i], pi1[i]])\n",
    "            else: continue\n",
    "    return Negative\n",
    "def NN_func_01(hh, m, list1):\n",
    "    PP=[]\n",
    "    NN=[]\n",
    "    for i in range (data):\n",
    "        phi=list1[i][0]\n",
    "        pi=list1[i][1]\n",
    "        if tf.math.abs(LP2(hh, m, phi, pi)[1])<0.1: PP.append([phi, pi])\n",
    "        else: NN.append([phi, pi])\n",
    "    return PP, NN"
   ]
  },
  {
   "cell_type": "code",
   "execution_count": 9,
   "metadata": {
    "collapsed": true
   },
   "outputs": [
    {
     "name": "stdout",
     "output_type": "stream",
     "text": [
      "1\n",
      "2\n",
      "3\n",
      "4\n",
      "5\n",
      "6\n",
      "7\n",
      "8\n",
      "9\n",
      "10\n",
      "11\n",
      "12\n",
      "13\n",
      "14\n",
      "15\n",
      "16\n",
      "17\n",
      "18\n",
      "19\n",
      "20\n",
      "21\n",
      "22\n",
      "23\n",
      "24\n",
      "25\n",
      "26\n",
      "27\n",
      "28\n",
      "29\n",
      "30\n",
      "31\n",
      "32\n",
      "33\n",
      "34\n",
      "35\n",
      "36\n",
      "37\n",
      "38\n",
      "39\n",
      "40\n",
      "41\n",
      "42\n",
      "43\n",
      "44\n",
      "45\n",
      "46\n",
      "47\n",
      "48\n",
      "49\n",
      "50\n",
      "51\n",
      "52\n",
      "53\n",
      "54\n",
      "55\n",
      "56\n",
      "57\n",
      "58\n",
      "59\n",
      "60\n",
      "61\n",
      "62\n",
      "63\n",
      "64\n",
      "65\n",
      "66\n",
      "67\n",
      "68\n",
      "69\n",
      "70\n",
      "71\n",
      "72\n",
      "73\n",
      "74\n",
      "75\n",
      "76\n",
      "77\n",
      "78\n",
      "79\n",
      "80\n",
      "81\n",
      "82\n",
      "83\n",
      "84\n",
      "85\n",
      "86\n",
      "87\n",
      "88\n",
      "89\n",
      "90\n",
      "91\n",
      "92\n",
      "93\n",
      "94\n",
      "95\n",
      "96\n",
      "97\n",
      "98\n",
      "99\n",
      "100\n"
     ]
    }
   ],
   "source": [
    "Positive=NN_func_p(h_real, m2)"
   ]
  },
  {
   "cell_type": "code",
   "execution_count": 10,
   "metadata": {},
   "outputs": [],
   "source": [
    "Negative=NN_func_n(h_real, m2)"
   ]
  },
  {
   "cell_type": "code",
   "execution_count": 20,
   "metadata": {
    "scrolled": false
   },
   "outputs": [],
   "source": [
    "[Positive0, Positive1]=NN_func_01(h, m2_2, Positive)\n",
    "[Negative0, Negative1]=NN_func_01(h, m2_2, Negative)"
   ]
  },
  {
   "cell_type": "code",
   "execution_count": 21,
   "metadata": {},
   "outputs": [
    {
     "data": {
      "image/png": "[encoded data removed]",
      "text/plain": [
       "<Figure size 432x288 with 1 Axes>"
      ]
     },
     "metadata": {
      "needs_background": "light"
     },
     "output_type": "display_data"
    }
   ],
   "source": [
    "x_data1=[v[0] for v in Positive0]\n",
    "y_data1=[v[1] for v in Positive0]\n",
    "x_data2=[v[0] for v in Positive1]\n",
    "y_data2=[v[1] for v in Positive1]\n",
    "x_data3=[v[0] for v in Negative0]\n",
    "y_data3=[v[1] for v in Negative0]\n",
    "x_data4=[v[0] for v in Negative1]\n",
    "y_data4=[v[1] for v in Negative1]\n",
    "plt.plot(x_data4, y_data4, 'g.')\n",
    "plt.plot(x_data2, y_data2, 'co', label='Positive')\n",
    "plt.plot(x_data1, y_data1, 'ro', label='NN(p)=0')\n",
    "plt.plot(x_data3, y_data3, 'mo', label='NN(n)=0')\n",
    "plt.xlim(0.0, 1.5)\n",
    "plt.ylim(-0.2, 0.2)\n",
    "plt.legend(bbox_to_anchor=(1, 0.5))\n",
    "plt.show()"
   ]
  },
  {
   "cell_type": "markdown",
   "metadata": {},
   "source": [
    "# Error function"
   ]
  },
  {
   "cell_type": "markdown",
   "metadata": {},
   "source": [
    "$E=\\sum_{data} \\left\\vert y(\\bar{x}^{(1)}) - \\bar{y} \\right\\vert+E_{reg}(W)$\n",
    ", $E_{reg}=c_{reg}^{(1)}\\sum_{n=1}^{N-1}(\\eta^{(n)})^{4}(h(\\eta^{(n+1)})-h(\\eta^{(n)}))^{2}+c_{reg}^{(2)}(h(\\eta^{(N)})-1/\\eta^{(N)})^{2}$"
   ]
  },
  {
   "cell_type": "code",
   "execution_count": 13,
   "metadata": {
    "tags": [
     "\"hide_input\""
    ]
   },
   "outputs": [],
   "source": [
    "def Error_func(hh, m):\n",
    "    phi0=np.array([v[0] for v in Positive])\n",
    "    pi0=np.array([v[1] for v in Positive])\n",
    "    phi1=np.array([v[0] for v in Negative])\n",
    "    pi1=np.array([v[1] for v in Negative])\n",
    "    phi_0, pi_0=LP2(hh, m, phi0, pi0)\n",
    "    phi_1, pi_1=LP2(hh, m, phi1, pi1)\n",
    "    PPlist=t_func(pi_0)\n",
    "    NNlist=t_func(pi_1)\n",
    "    sum_p=sum(PPlist)\n",
    "    sum_n=data-sum(NNlist)\n",
    "\n",
    "    inside=0\n",
    "    for k in range (layer-1):\n",
    "        second=((n_ini+k*dn)**4)*((hh[k+1]-hh[k])**2)\n",
    "        inside=inside+second\n",
    "    E_reg1=c_reg1*inside\n",
    "    E_reg2=c_reg2*((hh[layer-1]-1/n_fin)**2)\n",
    "    return E_reg1+E_reg2+sum_p+sum_n"
   ]
  },
  {
   "cell_type": "code",
   "execution_count": 22,
   "metadata": {},
   "outputs": [
    {
     "name": "stdout",
     "output_type": "stream",
     "text": [
      "tf.Tensor(2.20570471373324, shape=(), dtype=float64)\n",
      "tf.Tensor(96.36079154582227, shape=(), dtype=float64)\n"
     ]
    }
   ],
   "source": [
    "print(Error_func(h_real, m2))\n",
    "print(Error_func(h, m2_2))"
   ]
  },
  {
   "cell_type": "code",
   "execution_count": 23,
   "metadata": {},
   "outputs": [],
   "source": [
    "def run():\n",
    "    with tf.GradientTape() as g:\n",
    "        loss=Error_func(h, m2_2) #돌리기전에 Error함수 수정 잊지말것\n",
    "        gradients=g.gradient(loss, [h, m2_2])\n",
    "    optimizer.apply_gradients(zip(gradients, [h, m2_2]))"
   ]
  },
  {
   "cell_type": "code",
   "execution_count": null,
   "metadata": {
    "scrolled": true
   },
   "outputs": [
    {
     "name": "stdout",
     "output_type": "stream",
     "text": [
      "100 94.74189470627644 -1.3769759897958\n",
      "[ 3.76290816  1.44807339 -0.99841681  2.723854    3.26708486  2.80407455\n",
      "  1.82690798  2.21613307  4.60024765 10.10468163]\n"
     ]
    },
    {
     "data": {
      "image/png": "[encoded data removed]",
      "text/plain": [
       "<Figure size 432x288 with 1 Axes>"
      ]
     },
     "metadata": {
      "needs_background": "light"
     },
     "output_type": "display_data"
    },
    {
     "name": "stdout",
     "output_type": "stream",
     "text": [
      "200 94.60186014055664 -1.3766912369633448\n",
      "[ 3.6986571   1.46858995 -0.88463704  2.6469455   3.18803849  2.71970648\n",
      "  1.73857717  2.12474365  4.50681793 10.00478161]\n"
     ]
    },
    {
     "data": {
      "image/png": "[encoded data removed]",
      "text/plain": [
       "<Figure size 432x288 with 1 Axes>"
      ]
     },
     "metadata": {
      "needs_background": "light"
     },
     "output_type": "display_data"
    }
   ],
   "source": [
    "optimizer=tf.optimizers.Adam(learning_rate=0.001)\n",
    "for i in range (1, 10001):\n",
    "    run()\n",
    "    if i%100==0: print(i, Error_func(h, m2_2).numpy(), m2_2.numpy()), print(h.numpy()), plt.plot(h_real, 'r-'), plt.plot(h.numpy(), 'k-'), plt.show()"
   ]
  },
  {
   "cell_type": "code",
   "execution_count": null,
   "metadata": {
    "scrolled": true
   },
   "outputs": [],
   "source": [
    "optimizer=tf.optimizers.Adam(learning_rate=0.001)\n",
    "for i in range (1, 10001):\n",
    "    run()\n",
    "    if i%100==0: print(i, Error_func(h, m2_2).numpy(), m2_2.numpy()), print(h.numpy()), plt.plot(h_real, 'r-'), plt.plot(h.numpy(), 'k-'), plt.show()"
   ]
  },
  {
   "cell_type": "code",
   "execution_count": null,
   "metadata": {
    "scrolled": true
   },
   "outputs": [],
   "source": [
    "optimizer=tf.optimizers.Adam(learning_rate=0.001)\n",
    "for i in range (1, 10001):\n",
    "    run()\n",
    "    if i%100==0: print(i, Error_func(h, m2_2).numpy(), m2_2.numpy()), print(h.numpy()), plt.plot(h_real, 'r-'), plt.plot(h.numpy(), 'k-'), plt.show()"
   ]
  },
  {
   "cell_type": "code",
   "execution_count": null,
   "metadata": {
    "scrolled": true
   },
   "outputs": [],
   "source": [
    "optimizer=tf.optimizers.Adam(learning_rate=0.001)\n",
    "for i in range (1, 10001):\n",
    "    run()\n",
    "    if i%100==0: print(i, Error_func(h, m2_2).numpy(), m2_2.numpy()), print(h.numpy()), plt.plot(h_real, 'r-'), plt.plot(h.numpy(), 'k-'), plt.show()"
   ]
  },
  {
   "cell_type": "code",
   "execution_count": null,
   "metadata": {
    "scrolled": true
   },
   "outputs": [],
   "source": [
    "optimizer=tf.optimizers.Adam(learning_rate=0.001)\n",
    "for i in range (1, 10001):\n",
    "    run()\n",
    "    if i%100==0: print(i, Error_func(h, m2_2).numpy(), m2_2.numpy()), print(h.numpy()), plt.plot(h_real, 'r-'), plt.plot(h.numpy(), 'k-'), plt.show()"
   ]
  },
  {
   "cell_type": "code",
   "execution_count": null,
   "metadata": {
    "scrolled": true
   },
   "outputs": [],
   "source": [
    "optimizer=tf.optimizers.Adam(learning_rate=0.001)\n",
    "for i in range (1, 10001):\n",
    "    run()\n",
    "    if i%100==0: print(i, Error_func(h, m2_2).numpy(), m2_2.numpy()), print(h.numpy()), plt.plot(h_real, 'r-'), plt.plot(h.numpy(), 'k-'), plt.show()"
   ]
  },
  {
   "cell_type": "code",
   "execution_count": null,
   "metadata": {
    "scrolled": true
   },
   "outputs": [],
   "source": [
    "optimizer=tf.optimizers.Adam(learning_rate=0.001)\n",
    "for i in range (1, 10001):\n",
    "    run()\n",
    "    if i%100==0: print(i, Error_func(h, m2_2).numpy(), m2_2.numpy()), print(h.numpy()), plt.plot(h_real, 'r-'), plt.plot(h.numpy(), 'k-'), plt.show()"
   ]
  },
  {
   "cell_type": "code",
   "execution_count": null,
   "metadata": {
    "scrolled": true
   },
   "outputs": [],
   "source": [
    "optimizer=tf.optimizers.Adam(learning_rate=0.001)\n",
    "for i in range (1, 10001):\n",
    "    run()\n",
    "    if i%100==0: print(i, Error_func(h, m2_2).numpy(), m2_2.numpy()), print(h.numpy()), plt.plot(h_real, 'r-'), plt.plot(h.numpy(), 'k-'), plt.show()"
   ]
  },
  {
   "cell_type": "code",
   "execution_count": null,
   "metadata": {
    "scrolled": true
   },
   "outputs": [],
   "source": [
    "optimizer=tf.optimizers.Adam(learning_rate=0.001)\n",
    "for i in range (1, 10001):\n",
    "    run()\n",
    "    if i%100==0: print(i, Error_func(h, m2_2).numpy(), m2_2.numpy()), print(h.numpy()), plt.plot(h_real, 'r-'), plt.plot(h.numpy(), 'k-'), plt.show()"
   ]
  },
  {
   "cell_type": "code",
   "execution_count": null,
   "metadata": {
    "scrolled": true
   },
   "outputs": [],
   "source": [
    "optimizer=tf.optimizers.Adam(learning_rate=0.001)\n",
    "for i in range (1, 10001):\n",
    "    run()\n",
    "    if i%100==0: print(i, Error_func(h, m2_2).numpy(), m2_2.numpy()), print(h.numpy()), plt.plot(h_real, 'r-'), plt.plot(h.numpy(), 'k-'), plt.show()"
   ]
  },
  {
   "cell_type": "code",
   "execution_count": null,
   "metadata": {},
   "outputs": [],
   "source": [
    "[Positive0, Positive1]=NN_func_01(h, Positive)\n",
    "[Negative0, Negative1]=NN_func_01(h, Negative)\n",
    "\n",
    "x_data1=[v[0] for v in Positive0]\n",
    "y_data1=[v[1] for v in Positive0]\n",
    "x_data2=[v[0] for v in Positive1]\n",
    "y_data2=[v[1] for v in Positive1]\n",
    "x_data3=[v[0] for v in Negative0]\n",
    "y_data3=[v[1] for v in Negative0]\n",
    "x_data4=[v[0] for v in Negative1]\n",
    "y_data4=[v[1] for v in Negative1]\n",
    "plt.plot(x_data4, y_data4, 'g.')\n",
    "plt.plot(x_data2, y_data2, 'co', label='Positive')\n",
    "plt.plot(x_data1, y_data1, 'ro', label='NN(p)=0')\n",
    "plt.plot(x_data3, y_data3, 'mo', label='NN(n)=0')\n",
    "plt.xlim(0.0, 1.5)\n",
    "plt.ylim(-0.2, 0.2)\n",
    "plt.legend(bbox_to_anchor=(1, 0.5))\n",
    "plt.show()"
   ]
  },
  {
   "cell_type": "code",
   "execution_count": null,
   "metadata": {},
   "outputs": [],
   "source": []
  }
 ],
 "metadata": {
  "kernelspec": {
   "display_name": "Python 3",
   "language": "python",
   "name": "python3"
  },
  "language_info": {
   "codemirror_mode": {
    "name": "ipython",
    "version": 3
   },
   "file_extension": ".py",
   "mimetype": "text/x-python",
   "name": "python",
   "nbconvert_exporter": "python",
   "pygments_lexer": "ipython3",
   "version": "3.7.5"
  }
 },
 "nbformat": 4,
 "nbformat_minor": 2
}
